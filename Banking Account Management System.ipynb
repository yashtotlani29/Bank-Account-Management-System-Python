{
 "cells": [
  {
   "cell_type": "code",
   "execution_count": null,
   "id": "85293a91-0ff5-4776-a0e6-db7a5c6ac68f",
   "metadata": {},
   "outputs": [],
   "source": []
  },
  {
   "cell_type": "code",
   "execution_count": 31,
   "id": "ce8f60de-5c90-4863-8314-a0059eff896a",
   "metadata": {},
   "outputs": [
    {
     "name": "stdout",
     "output_type": "stream",
     "text": [
      "----------------------------------------\n",
      "          Welcome to FDC Bank           \n",
      "----------------------------------------\n",
      "\n",
      " How can we help you today?\n",
      "\n",
      "\n",
      "1. Open an Account\n",
      "2. View Account Details\n",
      "3. Perform Transactions (Withdraw/Deposit/Transfer)\n",
      "4. Exit\n",
      "    \n",
      "\n"
     ]
    },
    {
     "name": "stdin",
     "output_type": "stream",
     "text": [
      "Enter your choice between 1 to 4:  1\n",
      "Enter first name:  Akshay\n",
      "Enter last name:  Kumar\n",
      "Enter Pan Card Number:  234567890145\n",
      "Which type of account would you like to open (Current/Savings):  Savings\n",
      "How much do you wish to deposit:  10000\n"
     ]
    },
    {
     "name": "stdout",
     "output_type": "stream",
     "text": [
      "Your Assigned username is:  Akshay35\n",
      "Your Assigned password is:  6380\n",
      "Account Number:  11112222499\n",
      "Your Intial Balance is Rs.  10000\n",
      "\n",
      "\n",
      "\n",
      "1. Open an Account\n",
      "2. View Account Details\n",
      "3. Perform Transactions (Withdraw/Deposit/Transfer)\n",
      "4. Exit\n",
      "    \n",
      "\n"
     ]
    },
    {
     "name": "stdin",
     "output_type": "stream",
     "text": [
      "Enter your choice between 1 to 4:  2\n",
      "Enter Username:  Akshay35\n",
      "Enter password:  6380\n",
      "Enter Pancard:  234567890145\n"
     ]
    },
    {
     "name": "stdout",
     "output_type": "stream",
     "text": [
      "Your account details are: \n",
      "Account Number:  11112222499\n",
      "Account Holder Name:  Akshay Kumar\n",
      "Account Type:  Savings\n",
      "Total Balance is:   10000\n",
      "\n",
      "\n",
      "1. Open an Account\n",
      "2. View Account Details\n",
      "3. Perform Transactions (Withdraw/Deposit/Transfer)\n",
      "4. Exit\n",
      "    \n",
      "\n"
     ]
    },
    {
     "name": "stdin",
     "output_type": "stream",
     "text": [
      "Enter your choice between 1 to 4:  3\n",
      "Enter Username:  Akshay35\n",
      "Enter password:  6380\n",
      "Enter Pancard:  234567890145\n"
     ]
    },
    {
     "name": "stdout",
     "output_type": "stream",
     "text": [
      "\n",
      "    1. Deposit\n",
      "    2. Withdraw\n",
      "    3. Transfer\n"
     ]
    },
    {
     "name": "stdin",
     "output_type": "stream",
     "text": [
      "Enter transaction type:  Deposit\n",
      "Enter amount you want to deposit:  3000\n"
     ]
    },
    {
     "name": "stdout",
     "output_type": "stream",
     "text": [
      "your current balance is:  13000.0\n",
      "\n",
      "\n",
      "1. Open an Account\n",
      "2. View Account Details\n",
      "3. Perform Transactions (Withdraw/Deposit/Transfer)\n",
      "4. Exit\n",
      "    \n",
      "\n"
     ]
    },
    {
     "name": "stdin",
     "output_type": "stream",
     "text": [
      "Enter your choice between 1 to 4:  3\n",
      "Enter Username:  Akshay35\n",
      "Enter password:  6380\n",
      "Enter Pancard:  234567890145\n"
     ]
    },
    {
     "name": "stdout",
     "output_type": "stream",
     "text": [
      "\n",
      "    1. Deposit\n",
      "    2. Withdraw\n",
      "    3. Transfer\n"
     ]
    },
    {
     "name": "stdin",
     "output_type": "stream",
     "text": [
      "Enter transaction type:  Withdraw\n",
      "Enter amount you want to withdraw:  2000\n"
     ]
    },
    {
     "name": "stdout",
     "output_type": "stream",
     "text": [
      "Remaining balance is:  11000.0\n",
      "\n",
      "\n",
      "1. Open an Account\n",
      "2. View Account Details\n",
      "3. Perform Transactions (Withdraw/Deposit/Transfer)\n",
      "4. Exit\n",
      "    \n",
      "\n"
     ]
    },
    {
     "name": "stdin",
     "output_type": "stream",
     "text": [
      "Enter your choice between 1 to 4:  3\n",
      "Enter Username:  Akshay35\n",
      "Enter password:  6380\n",
      "Enter Pancard:  234567890145\n"
     ]
    },
    {
     "name": "stdout",
     "output_type": "stream",
     "text": [
      "\n",
      "    1. Deposit\n",
      "    2. Withdraw\n",
      "    3. Transfer\n"
     ]
    },
    {
     "name": "stdin",
     "output_type": "stream",
     "text": [
      "Enter transaction type:  Transfer\n",
      "Enter recievers pancard:  213654879012\n",
      "Enter amount you want to transfer:  1000\n"
     ]
    },
    {
     "name": "stdout",
     "output_type": "stream",
     "text": [
      "Remaining balance is 10000.0\n",
      "\n",
      "\n",
      "1. Open an Account\n",
      "2. View Account Details\n",
      "3. Perform Transactions (Withdraw/Deposit/Transfer)\n",
      "4. Exit\n",
      "    \n",
      "\n"
     ]
    },
    {
     "name": "stdin",
     "output_type": "stream",
     "text": [
      "Enter your choice between 1 to 4:  4\n",
      "Enter username:  Akshay35\n",
      "Enter password:  6380\n",
      "Enter pancard:  234567890145\n"
     ]
    },
    {
     "name": "stdout",
     "output_type": "stream",
     "text": [
      " Timestamp   Type  Amount  Balance\n",
      "2025-08-23 16:15:25.001308 ['Deposit', 3000.0, 13000.0]\n",
      "2025-08-23 16:15:52.920169 ['Withdraw', 2000.0, 11000.0]\n",
      "2025-08-23 16:16:23.210327 ['Transfer', 1000.0, 10000.0]\n"
     ]
    }
   ],
   "source": [
    "# credentials = {}\n",
    "users_db = {}\n",
    "passbook = {}\n",
    "nested_t = {}\n",
    "import datetime\n",
    "\n",
    "# Executes for new customers\n",
    "print(\"-\"*40)\n",
    "print(\"Welcome to FDC Bank\".center(40))\n",
    "print(\"-\"*40)\n",
    "print(\"\\n How can we help you today?\")\n",
    "\n",
    "while True:\n",
    "    print(\"\"\"\\n\n",
    "1. Open an Account\n",
    "2. View Account Details\n",
    "3. Perform Transactions (Withdraw/Deposit/Transfer)\n",
    "4. Exit\n",
    "    \\n\"\"\")\n",
    "\n",
    "    choice = int(input(\"Enter your choice between 1 to 4: \"))\n",
    "\n",
    "    if choice == 1:\n",
    "        fname = input(\"Enter first name: \")\n",
    "        lname = input(\"Enter last name: \")\n",
    "        pancard = input(\"Enter Pan Card Number: \")\n",
    "        if pancard in users_db.keys():\n",
    "            print(\"Your account already exists\")\n",
    "            print(\"Try Again\")\n",
    "            break\n",
    "\n",
    "        import random\n",
    "        account_number = \"11112222\" #constant code for the branch\n",
    "        for i in range(1,4):\n",
    "            a = random.randint(0,9)\n",
    "            account_number = account_number + str(a)\n",
    "        account_type = input(\"Which type of account would you like to open (Current/Savings): \")\n",
    "        balance = int(input(\"How much do you wish to deposit: \"))\n",
    "\n",
    "        username = fname\n",
    "        for i in range(2):\n",
    "            a = random.randint(0,9)\n",
    "            username = username + str(a)\n",
    "\n",
    "        password = \"\"\n",
    "\n",
    "        for i in range(4):\n",
    "            a = random.randint(0,9)\n",
    "            password = password + str(a)\n",
    "\n",
    "        print(\"Your Assigned username is: \", username)\n",
    "        print(\"Your Assigned password is: \", password)\n",
    "        print(\"Account Number: \", account_number)\n",
    "        print(\"Your Intial Balance is Rs. \", balance)\n",
    "        print()\n",
    "        \n",
    "        credentials[username] = password\n",
    "        users_db[pancard] = [fname,lname,account_number,account_type,balance]\n",
    "\n",
    "    elif choice == 2:\n",
    "        un = input(\"Enter Username: \")\n",
    "        ps = input(\"Enter password: \")\n",
    "        pc= input(\"Enter Pancard: \")\n",
    "        if un in credentials.keys() and ps == credentials[un] and pc in users_db.keys():\n",
    "            print(\"Your account details are: \")\n",
    "            print(\"Account Number: \",users_db[pc][2])\n",
    "            print(\"Account Holder Name: \",users_db[pc][0],users_db[pc][1])\n",
    "            print(\"Account Type: \",users_db[pc][-2])\n",
    "            print(\"Total Balance is:  \",users_db[pc][-1])\n",
    "        else:\n",
    "            print(\"Account does not exists!\")\n",
    "\n",
    "    elif choice == 3:\n",
    "         un = input(\"Enter Username: \")\n",
    "         ps = input(\"Enter password: \")\n",
    "         pc= input(\"Enter Pancard: \")\n",
    "         if un in credentials.keys() and ps == credentials[un] and pc in users_db.keys():\n",
    "             print(\"\"\"\n",
    "    1. Deposit\n",
    "    2. Withdraw\n",
    "    3. Transfer\"\"\")\n",
    "             t_type = input(\"Enter transaction type: \").capitalize()\n",
    "\n",
    "             if t_type == \"Deposit\":\n",
    "                 t_amount = float(input(\"Enter amount you want to deposit: \"))\n",
    "                 users_db[pancard][-1] += t_amount\n",
    "                 timestamp = datetime.datetime.now()\n",
    "                 print(\"your current balance is: \", users_db[pancard][-1])\n",
    "\n",
    "             elif t_type == \"Withdraw\":\n",
    "                t_amount = float(input(\"Enter amount you want to withdraw: \"))\n",
    "                if t_amount > users_db[pancard][-1]:\n",
    "                    print(\"you cannot withdraw more than deposited amount: \")\n",
    "                else:\n",
    "                     users_db[pancard][-1] -= t_amount\n",
    "                     timestamp = datetime.datetime.now()\n",
    "                     print(\"Remaining balance is: \", users_db[pancard][-1])\n",
    "             elif t_type == \"Transfer\":\n",
    "                r_pancard = input(\"Enter recievers pancard: \")\n",
    "                t_amount = float(input(\"Enter amount you want to transfer: \"))\n",
    "                users_db[pancard][-1] -= t_amount\n",
    "                timestamp = datetime.datetime.now()\n",
    "                print(\"Remaining balance is\", users_db[pancard][-1])\n",
    "                if r_pancard in users_db.keys():\n",
    "                    users_db[pc][-1] += t_amount\n",
    "\n",
    "             nested_t[timestamp] = [t_type, t_amount, users_db[pancard][-1]]\n",
    "             passbook[pancard] = nested_t\n",
    "\n",
    "    elif choice == 4:\n",
    "        un = input(\"Enter username: \")\n",
    "        ps = input(\"Enter password: \")\n",
    "        pc = input(\"Enter pancard: \")\n",
    "        if un in credentials.keys() and ps == credentials[un] and pc in users_db.keys():\n",
    "            print(\" Timestamp   Type  Amount  Balance\")\n",
    "            for i,j in passbook.items():\n",
    "                for k,l in j.items():\n",
    "                    print(k,l, end = \"\\n\")\n",
    "            break"
   ]
  }
 ],
 "metadata": {
  "kernelspec": {
   "display_name": "Python 3 (ipykernel)",
   "language": "python",
   "name": "python3"
  },
  "language_info": {
   "codemirror_mode": {
    "name": "ipython",
    "version": 3
   },
   "file_extension": ".py",
   "mimetype": "text/x-python",
   "name": "python",
   "nbconvert_exporter": "python",
   "pygments_lexer": "ipython3",
   "version": "3.13.5"
  }
 },
 "nbformat": 4,
 "nbformat_minor": 5
}
